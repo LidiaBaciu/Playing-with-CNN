{
 "cells": [
  {
   "cell_type": "code",
   "execution_count": 2,
   "metadata": {},
   "outputs": [],
   "source": [
    "import tensorflow as tf"
   ]
  },
  {
   "cell_type": "code",
   "execution_count": 3,
   "metadata": {},
   "outputs": [
    {
     "name": "stderr",
     "output_type": "stream",
     "text": [
      "2022-01-21 18:04:36.275519: I tensorflow/compiler/jit/xla_cpu_device.cc:41] Not creating XLA devices, tf_xla_enable_xla_devices not set\n",
      "2022-01-21 18:04:36.275947: I tensorflow/core/platform/cpu_feature_guard.cc:142] This TensorFlow binary is optimized with oneAPI Deep Neural Network Library (oneDNN) to use the following CPU instructions in performance-critical operations:  SSE4.1 SSE4.2 AVX AVX2 FMA\n",
      "To enable them in other operations, rebuild TensorFlow with the appropriate compiler flags.\n",
      "2022-01-21 18:04:36.280150: I tensorflow/core/common_runtime/process_util.cc:146] Creating new thread pool with default inter op setting: 2. Tune using inter_op_parallelism_threads for best performance.\n"
     ]
    },
    {
     "data": {
      "text/plain": [
       "<tf.Tensor: shape=(), dtype=float32, numpy=3.7>"
      ]
     },
     "execution_count": 3,
     "metadata": {},
     "output_type": "execute_result"
    }
   ],
   "source": [
    "tensor1 = tf.constant(3.7, dtype=tf.float32)\n",
    "tensor1"
   ]
  },
  {
   "cell_type": "code",
   "execution_count": 4,
   "metadata": {},
   "outputs": [
    {
     "name": "stdout",
     "output_type": "stream",
     "text": [
      "tf.Tensor(3.7, shape=(), dtype=float32)\n",
      "tf.Tensor(\n",
      "[[0.5]\n",
      " [7. ]], shape=(2, 1), dtype=float32)\n",
      "tf.Tensor([[12.  9.]], shape=(1, 2), dtype=float32)\n"
     ]
    }
   ],
   "source": [
    "tensor1 = tf.constant(value=3.7, dtype=tf.float32)\n",
    "tensor2 = tf.constant(value=[[0.5], [7]], dtype=tf.float32)\n",
    "tensor3 = tf.constant(value=[[12, 9]], dtype=tf.float32)\n",
    "print(tensor1)\n",
    "print(tensor2)\n",
    "print(tensor3)"
   ]
  },
  {
   "cell_type": "code",
   "execution_count": 8,
   "metadata": {},
   "outputs": [
    {
     "name": "stdout",
     "output_type": "stream",
     "text": [
      "tf.Tensor(3.7, shape=(), dtype=float32)\n",
      "tf.Tensor(\n",
      "[[0.5]\n",
      " [7. ]], shape=(2, 1), dtype=float32)\n",
      "tf.Tensor([[12.  9.]], shape=(1, 2), dtype=float32)\n"
     ]
    }
   ],
   "source": [
    "tensor1 = tf.constant(value=3.7, dtype=tf.float32, name=\"firstConstant\")\n",
    "tensor2 = tf.constant(value=[[0.5], [7]], dtype=tf.float32, name=\"secondConstant\")\n",
    "tensor3 = tf.constant(value=[[12, 9]], dtype=tf.float32, name=\"thirdConstant\")\n",
    "print(tensor1)\n",
    "print(tensor2)\n",
    "print(tensor3)"
   ]
  },
  {
   "cell_type": "code",
   "execution_count": 9,
   "metadata": {},
   "outputs": [
    {
     "name": "stdout",
     "output_type": "stream",
     "text": [
      "TopKV2(values=<tf.Tensor: shape=(2,), dtype=int32, numpy=array([4, 3], dtype=int32)>, indices=<tf.Tensor: shape=(2,), dtype=int32, numpy=array([3, 2], dtype=int32)>)\n"
     ]
    }
   ],
   "source": [
    "aa = tf.nn.top_k([1, 2, 3, 4], 2)\n",
    "print(aa)"
   ]
  }
 ],
 "metadata": {
  "kernelspec": {
   "display_name": "Python 3",
   "language": "python",
   "name": "python3"
  },
  "language_info": {
   "codemirror_mode": {
    "name": "ipython",
    "version": 3
   },
   "file_extension": ".py",
   "mimetype": "text/x-python",
   "name": "python",
   "nbconvert_exporter": "python",
   "pygments_lexer": "ipython3",
   "version": "3.9.7"
  }
 },
 "nbformat": 4,
 "nbformat_minor": 4
}
